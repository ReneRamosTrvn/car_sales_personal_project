{
 "cells": [
  {
   "cell_type": "code",
   "execution_count": 1,
   "metadata": {},
   "outputs": [],
   "source": [
    "import pandas as pd"
   ]
  },
  {
   "cell_type": "code",
   "execution_count": 2,
   "metadata": {},
   "outputs": [],
   "source": [
    "df =  pd.read_csv('./clean_car_sales.csv')"
   ]
  },
  {
   "cell_type": "code",
   "execution_count": 16,
   "metadata": {},
   "outputs": [],
   "source": [
    "def get_cheapest_car(manufacturer: str):\n",
    "    \"\"\"\n",
    "    This function will give you the cheapest car (no truck/suv) available from selected manufacture.\n",
    "\n",
    "    Parameters:\n",
    "    manufacture (str): A manufacture brand of choice (chevrolet, acura, ford, etc)\n",
    "\n",
    "    Returns:\n",
    "    A dictionary with key \"car\" and it's value.\n",
    "    \"\"\"\n",
    "    df_man = df[(df['manufacturer'] == manufacturer) & (df['vehicle_type'] == 'car')]\n",
    "    idx = df_man['price_in_thousands'].idxmin()\n",
    "    car_model = df_man.loc[idx, 'model']\n",
    "    return {\"car\": car_model}"
   ]
  },
  {
   "cell_type": "code",
   "execution_count": 18,
   "metadata": {},
   "outputs": [
    {
     "data": {
      "text/plain": [
       "{'car': 's40'}"
      ]
     },
     "execution_count": 18,
     "metadata": {},
     "output_type": "execute_result"
    }
   ],
   "source": [
    "get_cheapest_car('volvo')"
   ]
  },
  {
   "cell_type": "code",
   "execution_count": 45,
   "metadata": {},
   "outputs": [],
   "source": [
    "def get_faster_car(model: str, horsepower: int):\n",
    "    \"\"\"\n",
    "    This function will give you a dictionary of the top 5 faster cars (no truck/suv)\n",
    "    than the one you have. We are going to use the horsepower in case your model\n",
    "    isn't in our database.\n",
    "\n",
    "    Parameters:\n",
    "    model (str): The model of your car (camaro, mustang, s40, etc).\n",
    "    horsepower (int): The quantity of horsepower your car has (320, 118, 230).\n",
    "\n",
    "    Returns:\n",
    "    This will return a dictionary with the model and horsepower of 5 cars that are faster\n",
    "    \"\"\"\n",
    "\n",
    "    try:\n",
    "        your_car = df[df['model'] == model].iloc[0]\n",
    "    except IndexError:\n",
    "        your_car = {'horsepower': horsepower}\n",
    "\n",
    "    faster_cars = df[(df['vehicle_type'] == 'car') & (df['horsepower'] > your_car['horsepower'])].head(5)[['model', 'horsepower']]\n",
    "\n",
    "    return faster_cars.to_dict('records')\n"
   ]
  },
  {
   "cell_type": "code",
   "execution_count": 55,
   "metadata": {},
   "outputs": [
    {
     "data": {
      "text/plain": [
       "[{'model': 'corvette', 'horsepower': 345.0},\n",
       " {'model': 'viper', 'horsepower': 450.0}]"
      ]
     },
     "execution_count": 55,
     "metadata": {},
     "output_type": "execute_result"
    }
   ],
   "source": [
    "get_faster_car('a8', 100)"
   ]
  },
  {
   "cell_type": "code",
   "execution_count": 57,
   "metadata": {},
   "outputs": [],
   "source": [
    "def get_top_sold(manufacturer: str):\n",
    "    \"\"\"\n",
    "    This function will give you the top 5 most sold cars, trucks or SUVs by a manufacturer.\n",
    "\n",
    "    Parameters:\n",
    "    manufacture (str): A manufacturer brand of choice (chevrolet, acura, ford, etc)\n",
    "\n",
    "    Returns:\n",
    "    A dictionary with the top 5 sold cars, trucks, SUVs.\n",
    "    \"\"\"\n",
    "\n",
    "    top_5_cars = df[(df['manufacturer'] == manufacturer)].sort_values('sales_in_thousands', ascending=False).head(5)[['model', 'sales_in_thousands']]\n",
    "\n",
    "    return top_5_cars.to_dict('records')\n"
   ]
  },
  {
   "cell_type": "code",
   "execution_count": 58,
   "metadata": {},
   "outputs": [
    {
     "data": {
      "text/plain": [
       "[{'model': 'cavalier', 'sales_in_thousands': 145.519},\n",
       " {'model': 'malibu', 'sales_in_thousands': 135.126},\n",
       " {'model': 'impala', 'sales_in_thousands': 107.995},\n",
       " {'model': 'monte carlo', 'sales_in_thousands': 42.593},\n",
       " {'model': 'prizm', 'sales_in_thousands': 32.299}]"
      ]
     },
     "execution_count": 58,
     "metadata": {},
     "output_type": "execute_result"
    }
   ],
   "source": [
    "get_top_sold('chevrolet')"
   ]
  }
 ],
 "metadata": {
  "kernelspec": {
   "display_name": "Python 3",
   "language": "python",
   "name": "python3"
  },
  "language_info": {
   "codemirror_mode": {
    "name": "ipython",
    "version": 3
   },
   "file_extension": ".py",
   "mimetype": "text/x-python",
   "name": "python",
   "nbconvert_exporter": "python",
   "pygments_lexer": "ipython3",
   "version": "3.11.1"
  },
  "orig_nbformat": 4
 },
 "nbformat": 4,
 "nbformat_minor": 2
}
