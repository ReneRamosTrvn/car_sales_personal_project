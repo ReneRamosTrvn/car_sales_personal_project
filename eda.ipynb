{
 "cells": [
  {
   "cell_type": "code",
   "execution_count": 57,
   "metadata": {},
   "outputs": [],
   "source": [
    "import pandas as pd"
   ]
  },
  {
   "cell_type": "code",
   "execution_count": 58,
   "metadata": {},
   "outputs": [],
   "source": [
    "df = pd.read_csv('./clean_car_sales.csv')"
   ]
  },
  {
   "attachments": {},
   "cell_type": "markdown",
   "metadata": {},
   "source": [
    "Now we are going to explore all data to find outliers"
   ]
  },
  {
   "cell_type": "code",
   "execution_count": 59,
   "metadata": {},
   "outputs": [
    {
     "name": "stdout",
     "output_type": "stream",
     "text": [
      "['acura' 'audi' 'bmw' 'buick' 'cadillac' 'chevrolet' 'chrysler' 'dodge'\n",
      " 'ford' 'honda' 'hyundai' 'infiniti' 'jaguar' 'jeep' 'lexus' 'lincoln'\n",
      " 'mitsubishi' 'mercury' 'mercedes-b' 'nissan' 'oldsmobile' 'plymouth'\n",
      " 'pontiac' 'porsche' 'saab' 'saturn' 'subaru' 'toyota' 'volkswagen'\n",
      " 'volvo']\n"
     ]
    }
   ],
   "source": [
    "all_manufactors = df['manufacturer'].unique()\n",
    "print(all_manufactors)"
   ]
  },
  {
   "cell_type": "code",
   "execution_count": 60,
   "metadata": {},
   "outputs": [
    {
     "name": "stdout",
     "output_type": "stream",
     "text": [
      "['integra' 'tl' 'cl' 'rl' 'a4' 'a6' 'a8' '323i' '328i' '528i' 'century'\n",
      " 'regal' 'park avenue' 'lesabre' 'deville' 'seville' 'eldorado' 'catera'\n",
      " 'escalade' 'cavalier' 'malibu' 'lumina' 'monte carlo' 'camaro' 'corvette'\n",
      " 'prizm' 'metro' 'impala' 'sebring coupe' 'sebring conv.' 'concorde'\n",
      " 'cirrus' 'lhs' 'town & country' '300m' 'neon' 'avenger' 'stratus'\n",
      " 'intrepid' 'viper' 'ram pickup' 'ram wagon' 'ram van' 'dakota' 'durango'\n",
      " 'caravan' 'escort' 'mustang' 'contour' 'taurus' 'focus' 'crown victoria'\n",
      " 'explorer' 'windstar' 'expedition' 'ranger' 'f-series' 'civic' 'accord'\n",
      " 'cr-v' 'passport' 'odyssey' 'accent' 'elantra' 'sonata' 'i30' 's-type'\n",
      " 'wrangler' 'cherokee' 'grand cherokee' 'es300' 'gs300' 'gs400' 'ls400'\n",
      " 'lx470' 'rx300' 'continental' 'town car' 'navigator' 'mirage' 'eclipse'\n",
      " 'galant' 'diamante' '3000gt' 'montero' 'montero sport' 'mystique'\n",
      " 'cougar' 'sable' 'grand marquis' 'mountaineer' 'villager' 'c-class'\n",
      " 'e-class' 's-class' 'sl-class' 'slk' 'slk230' 'clk coupe' 'cl500'\n",
      " 'm-class' 'sentra' 'altima' 'maxima' 'quest' 'pathfinder' 'xterra'\n",
      " 'frontier' 'cutlass' 'intrigue' 'alero' 'aurora' 'bravada' 'silhouette'\n",
      " 'breeze' 'voyager' 'prowler' 'sunfire' 'grand am' 'firebird' 'grand prix'\n",
      " 'bonneville' 'montana' 'boxter' 'carrera coupe' 'carrera cabrio' '5-sep'\n",
      " '3-sep' 'sl' 'sc' 'sw' 'lw' 'ls' 'outback' 'forester' 'corolla' 'camry'\n",
      " 'avalon' 'celica' 'tacoma' 'sienna' 'rav4' '4runner' 'land cruiser'\n",
      " 'golf' 'jetta' 'passat' 'cabrio' 'gti' 'beetle' 's40' 'v40' 's70' 'v70'\n",
      " 'c70' 's80']\n"
     ]
    }
   ],
   "source": [
    "all_models = df['model'].unique()\n",
    "print(all_models)"
   ]
  },
  {
   "cell_type": "code",
   "execution_count": 61,
   "metadata": {},
   "outputs": [
    {
     "name": "stdout",
     "output_type": "stream",
     "text": [
      "[1.8  3.2  3.5  2.8  4.2  2.5  3.1  3.8  4.6  3.   5.7  2.2  3.4  1.\n",
      " 2.7  2.   3.06 8.   5.2  3.9  2.4  4.   1.6  2.3  1.5  4.7  5.4  3.3\n",
      " 4.3  5.   1.9  2.9 ]\n"
     ]
    }
   ],
   "source": [
    "all_engine_sizes = df['engine_size'].unique()\n",
    "print(all_engine_sizes)"
   ]
  },
  {
   "cell_type": "code",
   "execution_count": 62,
   "metadata": {},
   "outputs": [
    {
     "name": "stdout",
     "output_type": "stream",
     "text": [
      "['passenger' 'car']\n"
     ]
    }
   ],
   "source": [
    "all_vec_type = df['vehicle_type'].unique()\n",
    "print(all_vec_type)"
   ]
  },
  {
   "attachments": {},
   "cell_type": "markdown",
   "metadata": {},
   "source": [
    "We can see that we have two types of cars, 'car' and 'passenger', what does that mean?\n",
    "Lets explore further..."
   ]
  },
  {
   "cell_type": "code",
   "execution_count": 63,
   "metadata": {},
   "outputs": [
    {
     "name": "stdout",
     "output_type": "stream",
     "text": [
      "['integra' 'tl' 'cl' 'rl' 'a4' 'a6' 'a8' '323i' '328i' '528i' 'century'\n",
      " 'regal' 'park avenue' 'lesabre' 'deville' 'seville' 'eldorado' 'catera'\n",
      " 'cavalier' 'malibu' 'lumina' 'monte carlo' 'camaro' 'corvette' 'prizm'\n",
      " 'metro' 'impala' 'sebring coupe' 'sebring conv.' 'concorde' 'cirrus'\n",
      " 'lhs' '300m' 'neon' 'avenger' 'stratus' 'intrepid' 'viper' 'escort'\n",
      " 'mustang' 'contour' 'taurus' 'focus' 'crown victoria' 'civic' 'accord'\n",
      " 'accent' 'elantra' 'sonata' 'i30' 's-type' 'es300' 'gs300' 'gs400'\n",
      " 'ls400' 'continental' 'town car' 'mirage' 'eclipse' 'galant' 'diamante'\n",
      " '3000gt' 'mystique' 'cougar' 'sable' 'grand marquis' 'c-class' 'e-class'\n",
      " 's-class' 'sl-class' 'slk' 'slk230' 'clk coupe' 'cl500' 'sentra' 'altima'\n",
      " 'maxima' 'cutlass' 'intrigue' 'alero' 'aurora' 'breeze' 'prowler'\n",
      " 'sunfire' 'grand am' 'firebird' 'grand prix' 'bonneville' 'boxter'\n",
      " 'carrera coupe' 'carrera cabrio' '5-sep' '3-sep' 'sl' 'sc' 'sw' 'lw' 'ls'\n",
      " 'outback' 'corolla' 'camry' 'avalon' 'celica' 'golf' 'jetta' 'passat'\n",
      " 'cabrio' 'gti' 'beetle' 's40' 'v40' 's70' 'v70' 'c70' 's80']\n"
     ]
    }
   ],
   "source": [
    "passenger_df = df[df['vehicle_type'] == 'passenger']\n",
    "print(passenger_df['model'].unique())"
   ]
  },
  {
   "attachments": {},
   "cell_type": "markdown",
   "metadata": {},
   "source": [
    "Looks like all values with type 'passenger' are cars."
   ]
  },
  {
   "cell_type": "code",
   "execution_count": 64,
   "metadata": {},
   "outputs": [
    {
     "name": "stdout",
     "output_type": "stream",
     "text": [
      "['escalade' 'town & country' 'ram pickup' 'ram wagon' 'ram van' 'dakota'\n",
      " 'durango' 'caravan' 'explorer' 'windstar' 'expedition' 'ranger'\n",
      " 'f-series' 'cr-v' 'passport' 'odyssey' 'wrangler' 'cherokee'\n",
      " 'grand cherokee' 'lx470' 'rx300' 'navigator' 'montero' 'montero sport'\n",
      " 'mountaineer' 'villager' 'm-class' 'quest' 'pathfinder' 'xterra'\n",
      " 'frontier' 'bravada' 'silhouette' 'voyager' 'montana' 'forester' 'tacoma'\n",
      " 'sienna' 'rav4' '4runner' 'land cruiser']\n"
     ]
    }
   ],
   "source": [
    "car_df = df[df['vehicle_type'] == 'car']\n",
    "print(car_df['model'].unique())"
   ]
  },
  {
   "attachments": {},
   "cell_type": "markdown",
   "metadata": {},
   "source": [
    "And all values with type 'car' are trucks/suv"
   ]
  },
  {
   "attachments": {},
   "cell_type": "markdown",
   "metadata": {},
   "source": [
    "Let's change the type values so we can represent it better than 'car' and 'passenger' to 'car' and 'truck/suv'"
   ]
  },
  {
   "cell_type": "code",
   "execution_count": 65,
   "metadata": {},
   "outputs": [],
   "source": [
    "df['vehicle_type'] = df['vehicle_type'].replace('car', 'truck/suv')\n",
    "df['vehicle_type'] = df['vehicle_type'].replace('passenger', 'car')"
   ]
  },
  {
   "cell_type": "code",
   "execution_count": 66,
   "metadata": {},
   "outputs": [
    {
     "data": {
      "text/html": [
       "<div>\n",
       "<style scoped>\n",
       "    .dataframe tbody tr th:only-of-type {\n",
       "        vertical-align: middle;\n",
       "    }\n",
       "\n",
       "    .dataframe tbody tr th {\n",
       "        vertical-align: top;\n",
       "    }\n",
       "\n",
       "    .dataframe thead th {\n",
       "        text-align: right;\n",
       "    }\n",
       "</style>\n",
       "<table border=\"1\" class=\"dataframe\">\n",
       "  <thead>\n",
       "    <tr style=\"text-align: right;\">\n",
       "      <th></th>\n",
       "      <th>manufacturer</th>\n",
       "      <th>model</th>\n",
       "      <th>sales_in_thousands</th>\n",
       "      <th>year_resale_value</th>\n",
       "      <th>vehicle_type</th>\n",
       "      <th>price_in_thousands</th>\n",
       "      <th>engine_size</th>\n",
       "      <th>horsepower</th>\n",
       "      <th>wheel_base</th>\n",
       "      <th>width</th>\n",
       "      <th>length</th>\n",
       "      <th>curb_weight</th>\n",
       "      <th>fuel_capacity</th>\n",
       "      <th>fuel_efficiency</th>\n",
       "    </tr>\n",
       "  </thead>\n",
       "  <tbody>\n",
       "    <tr>\n",
       "      <th>0</th>\n",
       "      <td>acura</td>\n",
       "      <td>integra</td>\n",
       "      <td>16.919</td>\n",
       "      <td>16.360</td>\n",
       "      <td>car</td>\n",
       "      <td>21.500</td>\n",
       "      <td>1.8</td>\n",
       "      <td>140</td>\n",
       "      <td>101.2</td>\n",
       "      <td>67.3</td>\n",
       "      <td>172.4</td>\n",
       "      <td>2.639</td>\n",
       "      <td>13.2</td>\n",
       "      <td>28.0</td>\n",
       "    </tr>\n",
       "    <tr>\n",
       "      <th>1</th>\n",
       "      <td>acura</td>\n",
       "      <td>tl</td>\n",
       "      <td>39.384</td>\n",
       "      <td>19.875</td>\n",
       "      <td>car</td>\n",
       "      <td>28.400</td>\n",
       "      <td>3.2</td>\n",
       "      <td>225</td>\n",
       "      <td>108.1</td>\n",
       "      <td>70.3</td>\n",
       "      <td>192.9</td>\n",
       "      <td>3.517</td>\n",
       "      <td>17.2</td>\n",
       "      <td>25.0</td>\n",
       "    </tr>\n",
       "    <tr>\n",
       "      <th>2</th>\n",
       "      <td>acura</td>\n",
       "      <td>cl</td>\n",
       "      <td>14.114</td>\n",
       "      <td>18.225</td>\n",
       "      <td>car</td>\n",
       "      <td>27.391</td>\n",
       "      <td>3.2</td>\n",
       "      <td>225</td>\n",
       "      <td>106.9</td>\n",
       "      <td>70.6</td>\n",
       "      <td>192.0</td>\n",
       "      <td>3.470</td>\n",
       "      <td>17.2</td>\n",
       "      <td>26.0</td>\n",
       "    </tr>\n",
       "    <tr>\n",
       "      <th>3</th>\n",
       "      <td>acura</td>\n",
       "      <td>rl</td>\n",
       "      <td>8.588</td>\n",
       "      <td>29.725</td>\n",
       "      <td>car</td>\n",
       "      <td>42.000</td>\n",
       "      <td>3.5</td>\n",
       "      <td>210</td>\n",
       "      <td>114.6</td>\n",
       "      <td>71.4</td>\n",
       "      <td>196.6</td>\n",
       "      <td>3.850</td>\n",
       "      <td>18.0</td>\n",
       "      <td>22.0</td>\n",
       "    </tr>\n",
       "    <tr>\n",
       "      <th>4</th>\n",
       "      <td>audi</td>\n",
       "      <td>a4</td>\n",
       "      <td>20.397</td>\n",
       "      <td>22.255</td>\n",
       "      <td>car</td>\n",
       "      <td>23.990</td>\n",
       "      <td>1.8</td>\n",
       "      <td>150</td>\n",
       "      <td>102.6</td>\n",
       "      <td>68.2</td>\n",
       "      <td>178.0</td>\n",
       "      <td>2.998</td>\n",
       "      <td>16.4</td>\n",
       "      <td>27.0</td>\n",
       "    </tr>\n",
       "  </tbody>\n",
       "</table>\n",
       "</div>"
      ],
      "text/plain": [
       "  manufacturer    model  sales_in_thousands  year_resale_value vehicle_type  \\\n",
       "0        acura  integra              16.919             16.360          car   \n",
       "1        acura       tl              39.384             19.875          car   \n",
       "2        acura       cl              14.114             18.225          car   \n",
       "3        acura       rl               8.588             29.725          car   \n",
       "4         audi       a4              20.397             22.255          car   \n",
       "\n",
       "   price_in_thousands  engine_size  horsepower  wheel_base  width  length  \\\n",
       "0              21.500          1.8         140       101.2   67.3   172.4   \n",
       "1              28.400          3.2         225       108.1   70.3   192.9   \n",
       "2              27.391          3.2         225       106.9   70.6   192.0   \n",
       "3              42.000          3.5         210       114.6   71.4   196.6   \n",
       "4              23.990          1.8         150       102.6   68.2   178.0   \n",
       "\n",
       "   curb_weight  fuel_capacity  fuel_efficiency  \n",
       "0        2.639           13.2             28.0  \n",
       "1        3.517           17.2             25.0  \n",
       "2        3.470           17.2             26.0  \n",
       "3        3.850           18.0             22.0  \n",
       "4        2.998           16.4             27.0  "
      ]
     },
     "execution_count": 66,
     "metadata": {},
     "output_type": "execute_result"
    }
   ],
   "source": [
    "df.head()"
   ]
  },
  {
   "attachments": {},
   "cell_type": "markdown",
   "metadata": {},
   "source": [
    "Everyithing looks awesome :) Lets export it."
   ]
  },
  {
   "cell_type": "code",
   "execution_count": 67,
   "metadata": {},
   "outputs": [],
   "source": [
    "df.to_csv('./clean_car_sales.csv')"
   ]
  }
 ],
 "metadata": {
  "kernelspec": {
   "display_name": "Python 3",
   "language": "python",
   "name": "python3"
  },
  "language_info": {
   "codemirror_mode": {
    "name": "ipython",
    "version": 3
   },
   "file_extension": ".py",
   "mimetype": "text/x-python",
   "name": "python",
   "nbconvert_exporter": "python",
   "pygments_lexer": "ipython3",
   "version": "3.11.1"
  },
  "orig_nbformat": 4
 },
 "nbformat": 4,
 "nbformat_minor": 2
}
